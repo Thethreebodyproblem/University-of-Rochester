{
 "cells": [
  {
   "cell_type": "code",
   "execution_count": 2,
   "metadata": {},
   "outputs": [],
   "source": [
    "# Ignore several specific Pandas warnings\n",
    "import warnings\n",
    "warnings.filterwarnings(\"ignore\")\n",
    "\n",
    "# Import library\n",
    "import pandas as pd\n",
    "import numpy as np\n",
    "import requests\n",
    "import matplotlib.pyplot as plt\n",
    "import seaborn as sns\n",
    "from datetime import timedelta\n",
    "from datetime import datetime\n",
    "import time\n",
    "\n",
    "from sklearn.preprocessing import LabelEncoder\n",
    "from sklearn.preprocessing import OneHotEncoder\n",
    "\n",
    "from sklearn.cluster import DBSCAN\n",
    "from sklearn import metrics\n",
    "from sklearn.preprocessing import StandardScaler\n",
    "from sklearn.externals.joblib import parallel_backend\n",
    "\n",
    "import scipy.stats as stats\n",
    "from statsmodels.stats.multicomp import pairwise_tukeyhsd\n",
    "\n",
    "import time\n",
    "from tqdm import tqdm_notebook as tqdm\n",
    "\n",
    "\n",
    "\n",
    "# Set the seed for randomization\n",
    "seed = 0\n"
   ]
  },
  {
   "cell_type": "markdown",
   "metadata": {},
   "source": [
    "## Helper Functions"
   ]
  },
  {
   "cell_type": "code",
   "execution_count": 3,
   "metadata": {},
   "outputs": [],
   "source": [
    "def taxi_data_preprocess(taxi_data):\n",
    "    # Convert data type for categorical attribute\n",
    "    taxi_data.VendorID = taxi_data.VendorID.astype(object)\n",
    "    taxi_data.RatecodeID = taxi_data.RatecodeID.astype(object)\n",
    "    taxi_data.PULocationID = taxi_data.PULocationID.astype(object)\n",
    "    taxi_data.DOLocationID = taxi_data.DOLocationID.astype(object)\n",
    "    taxi_data.payment_type = taxi_data.payment_type.astype(object)\n",
    "    # Convert data type for date attribute\n",
    "    taxi_data.tpep_pickup_datetime = pd.to_datetime(taxi_data.tpep_pickup_datetime)\n",
    "    taxi_data.tpep_dropoff_datetime = pd.to_datetime(taxi_data.tpep_dropoff_datetime)\n",
    "    \n",
    "    # Compute the duration of each trip and store in a new column, 'duration'\n",
    "    print('Compute the duration of each taxi trip...')\n",
    "    taxi_data['duration'] = taxi_data.tpep_dropoff_datetime - taxi_data.tpep_pickup_datetime\n",
    "    # Create 5 different time period\n",
    "    print('Create 5 different time period: morning, noon, afternoon, night, latenight...')\n",
    "    taxi_data['time'] = None\n",
    "    \n",
    "    morning = [6 <= time.hour < 11 for time in taxi_data.tpep_pickup_datetime]\n",
    "    print('Morning is done!')\n",
    "    noon = [11 <= time.hour < 14 for time in taxi_data.tpep_pickup_datetime]\n",
    "    print('Noon is done!')\n",
    "    afternoon = [14 <= time.hour < 18 for time in taxi_data.tpep_pickup_datetime]\n",
    "    print('Afternoon is done!')\n",
    "    night = [18 <= time.hour <= 23 for time in taxi_data.tpep_pickup_datetime]\n",
    "    print('Night is done!')\n",
    "    latenight = [0 <= time.hour < 6 for time in taxi_data.tpep_pickup_datetime]\n",
    "    print('Latenight is done!')\n",
    "    \n",
    "    \n",
    "    taxi_data.loc[morning,'time'] = 'Morning'\n",
    "    taxi_data.loc[noon,'time'] = 'Noon'\n",
    "    taxi_data.loc[afternoon,'time'] = 'Afternoon'\n",
    "    taxi_data.loc[night,'time'] = 'Night'\n",
    "    taxi_data.loc[latenight,'time'] = 'Latenight'\n",
    "    \n",
    "    # Remove unreasonable records\n",
    "    print('Remove unreasonable records...')\n",
    "    # 1. Taxi trips that have negative or zero duration\n",
    "    print('Remove trip records whose dropoff time is earlier than pickup time...')\n",
    "    taxi_data = taxi_data.loc[taxi_data.tpep_dropoff_datetime > taxi_data.tpep_pickup_datetime,]\n",
    "    # 2. Taxi trips that last longer than 24 hours\n",
    "    print('Remove trip records that last longer than 24 hours or have negative duration time...')\n",
    "    taxi_data = taxi_data.loc[[duration.days == 0 for duration in taxi_data.duration],]\n",
    "    # 3. Taxi trips that travel more than 30 miles\n",
    "    print('Remove trip records that travel more than 30 miles...')\n",
    "    taxi_data = taxi_data.loc[taxi_data.trip_distance <= 30,]\n",
    "    # 4. Taxi trips with non-positive total amount \n",
    "    print('Remove trip records that have negative or zero total amount...')\n",
    "    taxi_data = taxi_data.loc[taxi_data.total_amount > 0,]\n",
    "    \n",
    "    # Reset row index\n",
    "    print('Reset row index...')\n",
    "    taxi_data.reset_index(inplace = True, drop = True)\n",
    "    \n",
    "    # Compute the income/second\n",
    "    print('Compute the income per second for each trip in dollar amount...')\n",
    "    taxi_data['income_per_second'] = [income/time.total_seconds() for income,time in zip(taxi_data.total_amount,taxi_data.duration)]\n",
    "    \n",
    "    # R\n",
    "    print('Remove data points with extreme values in the following attributes: income_per_second, tip_amount, total_amount...')\n",
    "    taxi_data = taxi_data.loc[taxi_data.income_per_second <= 0.06,]\n",
    "    taxi_data = taxi_data.loc[taxi_data.tip_amount <= 16,]\n",
    "    taxi_data = taxi_data.loc[taxi_data.total_amount <= 77,]\n",
    "    \n",
    "    print('Taxi data preprocess completed!')\n",
    "    \n",
    "    return taxi_data"
   ]
  },
  {
   "cell_type": "code",
   "execution_count": 5,
   "metadata": {},
   "outputs": [],
   "source": [
    "def add_March_weather(taxi_data):\n",
    "    print('Add weather warnings for March data...')\n",
    "    # Create weather column in taxi data\n",
    "    taxi_data['weather'] = 'None'\n",
    "    # List of dates that have winter storm warning\n",
    "    winter_storm_date = [6,7,8,20,22]\n",
    "    # True/False vector to indicate whether trip was impacted by the weather or not\n",
    "    impact = [time.day in winter_storm_date for time in taxi_data.tpep_pickup_datetime]\n",
    "    # Label impacted trips\n",
    "    taxi_data.loc[impact,'weather'] = 'Winter Storm'\n",
    "    print('Weather warnings have been added!')\n",
    "    \n",
    "    return taxi_data"
   ]
  },
  {
   "cell_type": "code",
   "execution_count": 6,
   "metadata": {},
   "outputs": [],
   "source": [
    "def add_August_weather(taxi_data):\n",
    "    print('Add weather warnings for August data...')\n",
    "    # Create weather column in taxi data\n",
    "    taxi_data['weather'] = 'None'\n",
    "    # List of dates that have winter storm warning\n",
    "    thunderstorm_date = [7,11]\n",
    "    # True/False vector to indicate whether trip was impacted by the weather or not\n",
    "    impact = [time.day in thunderstorm_date for time in taxi_data.tpep_pickup_datetime]\n",
    "    # Label impacted trips\n",
    "    taxi_data.loc[impact,'weather'] = 'Thunderstorm'\n",
    "    print('Weather warnings have been added!')\n",
    "    \n",
    "    return taxi_data"
   ]
  },
  {
   "cell_type": "code",
   "execution_count": null,
   "metadata": {},
   "outputs": [],
   "source": [
    "def compare_time_density(taxi_data, feature, fig_width, fig_height):\n",
    "    # Plot income_per_second for different time in a day\n",
    "    fig, ax = plt.subplots(figsize = (fig_width, fig_height))\n",
    "\n",
    "    sns.distplot(taxi_data.loc[taxi_data.time == 'Latenight', feature], ax = ax)\n",
    "    sns.distplot(taxi_data.loc[taxi_data.time == 'Night', feature], ax = ax)\n",
    "    sns.distplot(taxi_data.loc[taxi_data.time == 'Afternoon', feature], ax = ax)\n",
    "    sns.distplot(taxi_data.loc[taxi_data.time == 'Morning', feature], ax = ax)\n",
    "    sns.distplot(taxi_data.loc[taxi_data.time == 'Noon', feature], ax = ax)\n",
    "\n",
    "    ax.legend(['Latenight','Night','Afternoon','Morning','Noon']); ax.set_ylabel('Density');\n",
    "    \n",
    "    return ax"
   ]
  },
  {
   "cell_type": "code",
   "execution_count": null,
   "metadata": {},
   "outputs": [],
   "source": [
    "def compare_WS_density(taxi_data, feature, fig_width, fig_height):\n",
    "    # Plot income_per_second for different time in a day\n",
    "    fig, ax = plt.subplots(figsize = (fig_width, fig_height))\n",
    "\n",
    "    sns.distplot(taxi_data.loc[taxi_data.weather == 'Winter Storm', feature], ax = ax)\n",
    "    sns.distplot(taxi_data.loc[taxi_data.weather == 'None', feature], ax = ax)\n",
    "    \n",
    "    ax.legend(['Winter Storm','None']); ax.set_ylabel('Density');\n",
    "    \n",
    "    return ax"
   ]
  },
  {
   "cell_type": "code",
   "execution_count": null,
   "metadata": {},
   "outputs": [],
   "source": [
    "def compare_SV_density(taxi_data, feature, fig_width, fig_height):\n",
    "    # Plot income_per_second for different time in a day\n",
    "    fig, ax = plt.subplots(figsize = (fig_width, fig_height))\n",
    "\n",
    "    sns.distplot(taxi_data.loc[taxi_data.weather == 'Thunderstorm', feature], ax = ax)\n",
    "    sns.distplot(taxi_data.loc[taxi_data.weather == 'None', feature], ax = ax)\n",
    "    \n",
    "    ax.legend(['Thunderstorm','None']); ax.set_ylabel('Density');\n",
    "    \n",
    "    return ax"
   ]
  },
  {
   "cell_type": "code",
   "execution_count": null,
   "metadata": {},
   "outputs": [],
   "source": [
    "def compare_group_boxplot(taxi_data, group, feature, fig_width, fig_height):\n",
    "    \n",
    "    fig, ax = plt.subplots(figsize = (fig_width, fig_height))\n",
    "    \n",
    "    sns.boxplot(x = group, y = feature, data = taxi_data)\n",
    "    "
   ]
  },
  {
   "cell_type": "markdown",
   "metadata": {},
   "source": [
    "# Yellow Taxi"
   ]
  },
  {
   "cell_type": "code",
   "execution_count": 7,
   "metadata": {},
   "outputs": [
    {
     "name": "stdout",
     "output_type": "stream",
     "text": [
      "Compute the duration of each taxi trip...\n",
      "Create 5 different time period: morning, noon, afternoon, night, latenight...\n",
      "Morning is done!\n",
      "Noon is done!\n",
      "Afternoon is done!\n"
     ]
    },
    {
     "ename": "KeyboardInterrupt",
     "evalue": "",
     "output_type": "error",
     "traceback": [
      "\u001b[0;31m--------------------------------------------------------\u001b[0m",
      "\u001b[0;31mKeyboardInterrupt\u001b[0m      Traceback (most recent call last)",
      "\u001b[0;32m<ipython-input-7-bd38a2fa819a>\u001b[0m in \u001b[0;36m<module>\u001b[0;34m()\u001b[0m\n\u001b[1;32m      3\u001b[0m \u001b[0myellow_taxi_March\u001b[0m \u001b[0;34m=\u001b[0m \u001b[0mpd\u001b[0m\u001b[0;34m.\u001b[0m\u001b[0mread_csv\u001b[0m\u001b[0;34m(\u001b[0m\u001b[0;34m'../data/yellow_tripdata_2018-03.csv'\u001b[0m\u001b[0;34m)\u001b[0m\u001b[0;34m\u001b[0m\u001b[0m\n\u001b[1;32m      4\u001b[0m \u001b[0;31m# Preprocess the taxi data\u001b[0m\u001b[0;34m\u001b[0m\u001b[0;34m\u001b[0m\u001b[0m\n\u001b[0;32m----> 5\u001b[0;31m \u001b[0myellow_taxi_March\u001b[0m \u001b[0;34m=\u001b[0m \u001b[0mtaxi_data_preprocess\u001b[0m\u001b[0;34m(\u001b[0m\u001b[0myellow_taxi_March\u001b[0m\u001b[0;34m)\u001b[0m\u001b[0;34m\u001b[0m\u001b[0m\n\u001b[0m\u001b[1;32m      6\u001b[0m \u001b[0;31m# Add weather info\u001b[0m\u001b[0;34m\u001b[0m\u001b[0;34m\u001b[0m\u001b[0m\n\u001b[1;32m      7\u001b[0m \u001b[0myellow_taxi_March\u001b[0m \u001b[0;34m=\u001b[0m \u001b[0madd_March_weather\u001b[0m\u001b[0;34m(\u001b[0m\u001b[0mtaxi_data\u001b[0m \u001b[0;34m=\u001b[0m \u001b[0myellow_taxi_March\u001b[0m\u001b[0;34m)\u001b[0m\u001b[0;34m\u001b[0m\u001b[0m\n",
      "\u001b[0;32m<ipython-input-3-2f8b764527d5>\u001b[0m in \u001b[0;36mtaxi_data_preprocess\u001b[0;34m(taxi_data)\u001b[0m\n\u001b[1;32m     23\u001b[0m     \u001b[0mafternoon\u001b[0m \u001b[0;34m=\u001b[0m \u001b[0;34m[\u001b[0m\u001b[0;36m14\u001b[0m \u001b[0;34m<=\u001b[0m \u001b[0mtime\u001b[0m\u001b[0;34m.\u001b[0m\u001b[0mhour\u001b[0m \u001b[0;34m<\u001b[0m \u001b[0;36m18\u001b[0m \u001b[0;32mfor\u001b[0m \u001b[0mtime\u001b[0m \u001b[0;32min\u001b[0m \u001b[0mtaxi_data\u001b[0m\u001b[0;34m.\u001b[0m\u001b[0mtpep_pickup_datetime\u001b[0m\u001b[0;34m]\u001b[0m\u001b[0;34m\u001b[0m\u001b[0m\n\u001b[1;32m     24\u001b[0m     \u001b[0mprint\u001b[0m\u001b[0;34m(\u001b[0m\u001b[0;34m'Afternoon is done!'\u001b[0m\u001b[0;34m)\u001b[0m\u001b[0;34m\u001b[0m\u001b[0m\n\u001b[0;32m---> 25\u001b[0;31m     \u001b[0mnight\u001b[0m \u001b[0;34m=\u001b[0m \u001b[0;34m[\u001b[0m\u001b[0;36m18\u001b[0m \u001b[0;34m<=\u001b[0m \u001b[0mtime\u001b[0m\u001b[0;34m.\u001b[0m\u001b[0mhour\u001b[0m \u001b[0;34m<=\u001b[0m \u001b[0;36m23\u001b[0m \u001b[0;32mfor\u001b[0m \u001b[0mtime\u001b[0m \u001b[0;32min\u001b[0m \u001b[0mtaxi_data\u001b[0m\u001b[0;34m.\u001b[0m\u001b[0mtpep_pickup_datetime\u001b[0m\u001b[0;34m]\u001b[0m\u001b[0;34m\u001b[0m\u001b[0m\n\u001b[0m\u001b[1;32m     26\u001b[0m     \u001b[0mprint\u001b[0m\u001b[0;34m(\u001b[0m\u001b[0;34m'Night is done!'\u001b[0m\u001b[0;34m)\u001b[0m\u001b[0;34m\u001b[0m\u001b[0m\n\u001b[1;32m     27\u001b[0m     \u001b[0mlatenight\u001b[0m \u001b[0;34m=\u001b[0m \u001b[0;34m[\u001b[0m\u001b[0;36m0\u001b[0m \u001b[0;34m<=\u001b[0m \u001b[0mtime\u001b[0m\u001b[0;34m.\u001b[0m\u001b[0mhour\u001b[0m \u001b[0;34m<\u001b[0m \u001b[0;36m6\u001b[0m \u001b[0;32mfor\u001b[0m \u001b[0mtime\u001b[0m \u001b[0;32min\u001b[0m \u001b[0mtaxi_data\u001b[0m\u001b[0;34m.\u001b[0m\u001b[0mtpep_pickup_datetime\u001b[0m\u001b[0;34m]\u001b[0m\u001b[0;34m\u001b[0m\u001b[0m\n",
      "\u001b[0;32m/Library/Frameworks/Python.framework/Versions/3.7/lib/python3.7/site-packages/pandas/core/base.py\u001b[0m in \u001b[0;36m__iter__\u001b[0;34m(self)\u001b[0m\n\u001b[1;32m    918\u001b[0m         \u001b[0;34m(\u001b[0m\u001b[0;32mfor\u001b[0m \u001b[0mTimestamp\u001b[0m\u001b[0;34m/\u001b[0m\u001b[0mTimedelta\u001b[0m\u001b[0;34m/\u001b[0m\u001b[0mInterval\u001b[0m\u001b[0;34m/\u001b[0m\u001b[0mPeriod\u001b[0m\u001b[0;34m)\u001b[0m\u001b[0;34m\u001b[0m\u001b[0m\n\u001b[1;32m    919\u001b[0m         \"\"\"\n\u001b[0;32m--> 920\u001b[0;31m         \u001b[0;32mreturn\u001b[0m \u001b[0miter\u001b[0m\u001b[0;34m(\u001b[0m\u001b[0mself\u001b[0m\u001b[0;34m.\u001b[0m\u001b[0mtolist\u001b[0m\u001b[0;34m(\u001b[0m\u001b[0;34m)\u001b[0m\u001b[0;34m)\u001b[0m\u001b[0;34m\u001b[0m\u001b[0m\n\u001b[0m\u001b[1;32m    921\u001b[0m \u001b[0;34m\u001b[0m\u001b[0m\n\u001b[1;32m    922\u001b[0m     \u001b[0;34m@\u001b[0m\u001b[0mcache_readonly\u001b[0m\u001b[0;34m\u001b[0m\u001b[0m\n",
      "\u001b[0;32m/Library/Frameworks/Python.framework/Versions/3.7/lib/python3.7/site-packages/pandas/core/base.py\u001b[0m in \u001b[0;36mtolist\u001b[0;34m(self)\u001b[0m\n\u001b[1;32m    904\u001b[0m         \"\"\"\n\u001b[1;32m    905\u001b[0m         \u001b[0;32mif\u001b[0m \u001b[0mis_datetimelike\u001b[0m\u001b[0;34m(\u001b[0m\u001b[0mself\u001b[0m\u001b[0;34m.\u001b[0m\u001b[0m_values\u001b[0m\u001b[0;34m)\u001b[0m\u001b[0;34m:\u001b[0m\u001b[0;34m\u001b[0m\u001b[0m\n\u001b[0;32m--> 906\u001b[0;31m             \u001b[0;32mreturn\u001b[0m \u001b[0;34m[\u001b[0m\u001b[0mcom\u001b[0m\u001b[0;34m.\u001b[0m\u001b[0m_maybe_box_datetimelike\u001b[0m\u001b[0;34m(\u001b[0m\u001b[0mx\u001b[0m\u001b[0;34m)\u001b[0m \u001b[0;32mfor\u001b[0m \u001b[0mx\u001b[0m \u001b[0;32min\u001b[0m \u001b[0mself\u001b[0m\u001b[0;34m.\u001b[0m\u001b[0m_values\u001b[0m\u001b[0;34m]\u001b[0m\u001b[0;34m\u001b[0m\u001b[0m\n\u001b[0m\u001b[1;32m    907\u001b[0m         \u001b[0;32melif\u001b[0m \u001b[0mis_extension_array_dtype\u001b[0m\u001b[0;34m(\u001b[0m\u001b[0mself\u001b[0m\u001b[0;34m.\u001b[0m\u001b[0m_values\u001b[0m\u001b[0;34m)\u001b[0m\u001b[0;34m:\u001b[0m\u001b[0;34m\u001b[0m\u001b[0m\n\u001b[1;32m    908\u001b[0m             \u001b[0;32mreturn\u001b[0m \u001b[0mlist\u001b[0m\u001b[0;34m(\u001b[0m\u001b[0mself\u001b[0m\u001b[0;34m.\u001b[0m\u001b[0m_values\u001b[0m\u001b[0;34m)\u001b[0m\u001b[0;34m\u001b[0m\u001b[0m\n",
      "\u001b[0;32m/Library/Frameworks/Python.framework/Versions/3.7/lib/python3.7/site-packages/pandas/core/base.py\u001b[0m in \u001b[0;36m<listcomp>\u001b[0;34m(.0)\u001b[0m\n\u001b[1;32m    904\u001b[0m         \"\"\"\n\u001b[1;32m    905\u001b[0m         \u001b[0;32mif\u001b[0m \u001b[0mis_datetimelike\u001b[0m\u001b[0;34m(\u001b[0m\u001b[0mself\u001b[0m\u001b[0;34m.\u001b[0m\u001b[0m_values\u001b[0m\u001b[0;34m)\u001b[0m\u001b[0;34m:\u001b[0m\u001b[0;34m\u001b[0m\u001b[0m\n\u001b[0;32m--> 906\u001b[0;31m             \u001b[0;32mreturn\u001b[0m \u001b[0;34m[\u001b[0m\u001b[0mcom\u001b[0m\u001b[0;34m.\u001b[0m\u001b[0m_maybe_box_datetimelike\u001b[0m\u001b[0;34m(\u001b[0m\u001b[0mx\u001b[0m\u001b[0;34m)\u001b[0m \u001b[0;32mfor\u001b[0m \u001b[0mx\u001b[0m \u001b[0;32min\u001b[0m \u001b[0mself\u001b[0m\u001b[0;34m.\u001b[0m\u001b[0m_values\u001b[0m\u001b[0;34m]\u001b[0m\u001b[0;34m\u001b[0m\u001b[0m\n\u001b[0m\u001b[1;32m    907\u001b[0m         \u001b[0;32melif\u001b[0m \u001b[0mis_extension_array_dtype\u001b[0m\u001b[0;34m(\u001b[0m\u001b[0mself\u001b[0m\u001b[0;34m.\u001b[0m\u001b[0m_values\u001b[0m\u001b[0;34m)\u001b[0m\u001b[0;34m:\u001b[0m\u001b[0;34m\u001b[0m\u001b[0m\n\u001b[1;32m    908\u001b[0m             \u001b[0;32mreturn\u001b[0m \u001b[0mlist\u001b[0m\u001b[0;34m(\u001b[0m\u001b[0mself\u001b[0m\u001b[0;34m.\u001b[0m\u001b[0m_values\u001b[0m\u001b[0;34m)\u001b[0m\u001b[0;34m\u001b[0m\u001b[0m\n",
      "\u001b[0;32m/Library/Frameworks/Python.framework/Versions/3.7/lib/python3.7/site-packages/pandas/core/common.py\u001b[0m in \u001b[0;36m_maybe_box_datetimelike\u001b[0;34m(value)\u001b[0m\n\u001b[1;32m     88\u001b[0m \u001b[0;34m\u001b[0m\u001b[0m\n\u001b[1;32m     89\u001b[0m     \u001b[0;32mif\u001b[0m \u001b[0misinstance\u001b[0m\u001b[0;34m(\u001b[0m\u001b[0mvalue\u001b[0m\u001b[0;34m,\u001b[0m \u001b[0;34m(\u001b[0m\u001b[0mnp\u001b[0m\u001b[0;34m.\u001b[0m\u001b[0mdatetime64\u001b[0m\u001b[0;34m,\u001b[0m \u001b[0mdatetime\u001b[0m\u001b[0;34m)\u001b[0m\u001b[0;34m)\u001b[0m\u001b[0;34m:\u001b[0m\u001b[0;34m\u001b[0m\u001b[0m\n\u001b[0;32m---> 90\u001b[0;31m         \u001b[0mvalue\u001b[0m \u001b[0;34m=\u001b[0m \u001b[0mtslib\u001b[0m\u001b[0;34m.\u001b[0m\u001b[0mTimestamp\u001b[0m\u001b[0;34m(\u001b[0m\u001b[0mvalue\u001b[0m\u001b[0;34m)\u001b[0m\u001b[0;34m\u001b[0m\u001b[0m\n\u001b[0m\u001b[1;32m     91\u001b[0m     \u001b[0;32melif\u001b[0m \u001b[0misinstance\u001b[0m\u001b[0;34m(\u001b[0m\u001b[0mvalue\u001b[0m\u001b[0;34m,\u001b[0m \u001b[0;34m(\u001b[0m\u001b[0mnp\u001b[0m\u001b[0;34m.\u001b[0m\u001b[0mtimedelta64\u001b[0m\u001b[0;34m,\u001b[0m \u001b[0mtimedelta\u001b[0m\u001b[0;34m)\u001b[0m\u001b[0;34m)\u001b[0m\u001b[0;34m:\u001b[0m\u001b[0;34m\u001b[0m\u001b[0m\n\u001b[1;32m     92\u001b[0m         \u001b[0mvalue\u001b[0m \u001b[0;34m=\u001b[0m \u001b[0mtslib\u001b[0m\u001b[0;34m.\u001b[0m\u001b[0mTimedelta\u001b[0m\u001b[0;34m(\u001b[0m\u001b[0mvalue\u001b[0m\u001b[0;34m)\u001b[0m\u001b[0;34m\u001b[0m\u001b[0m\n",
      "\u001b[0;31mKeyboardInterrupt\u001b[0m: "
     ]
    }
   ],
   "source": [
    "start = time.time()\n",
    "# Load the csv file into pandas dataframe\n",
    "yellow_taxi_March = pd.read_csv('../data/yellow_tripdata_2018-03.csv')\n",
    "# Preprocess the taxi data\n",
    "yellow_taxi_March = taxi_data_preprocess(yellow_taxi_March)\n",
    "# Add weather info\n",
    "yellow_taxi_March = add_March_weather(taxi_data = yellow_taxi_March)\n",
    "end = time.time()\n",
    "print('Entire process took {:.2f} minutes'.format((end-start)/60))"
   ]
  },
  {
   "cell_type": "code",
   "execution_count": null,
   "metadata": {},
   "outputs": [],
   "source": [
    "start = time.time()\n",
    "# Load the csv file into pandas dataframe\n",
    "yellow_taxi_August = pd.read_csv('../data/yellow_tripdata_2018-08.csv')\n",
    "# Preprocess the taxi data\n",
    "yellow_taxi_August = taxi_data_preprocess(yellow_taxi_August)\n",
    "# Add weather info\n",
    "yellow_taxi_August = add_August_weather(taxi_data = yellow_taxi_August)\n",
    "end = time.time()\n",
    "print('Entire process took {:.2f} minutes'.format((end-start)/60))"
   ]
  },
  {
   "cell_type": "markdown",
   "metadata": {},
   "source": [
    "## 1. Compare Driver Income by Different Time of a Day"
   ]
  },
  {
   "cell_type": "code",
   "execution_count": null,
   "metadata": {},
   "outputs": [],
   "source": [
    "compare_time_density(taxi_data = yellow_taxi_March, feature = 'income_per_second', fig_width = 15, fig_height = 5)"
   ]
  },
  {
   "cell_type": "code",
   "execution_count": null,
   "metadata": {},
   "outputs": [],
   "source": [
    "compare_group_boxplot(taxi_data = yellow_taxi_March, group = 'time', feature = 'income_per_second')"
   ]
  },
  {
   "cell_type": "code",
   "execution_count": null,
   "metadata": {},
   "outputs": [],
   "source": []
  },
  {
   "cell_type": "code",
   "execution_count": null,
   "metadata": {},
   "outputs": [],
   "source": []
  },
  {
   "cell_type": "code",
   "execution_count": null,
   "metadata": {},
   "outputs": [],
   "source": []
  },
  {
   "cell_type": "code",
   "execution_count": null,
   "metadata": {},
   "outputs": [],
   "source": []
  }
 ],
 "metadata": {
  "kernelspec": {
   "display_name": "Python 3",
   "language": "python",
   "name": "python3"
  },
  "language_info": {
   "codemirror_mode": {
    "name": "ipython",
    "version": 3
   },
   "file_extension": ".py",
   "mimetype": "text/x-python",
   "name": "python",
   "nbconvert_exporter": "python",
   "pygments_lexer": "ipython3",
   "version": "3.7.0"
  }
 },
 "nbformat": 4,
 "nbformat_minor": 2
}
