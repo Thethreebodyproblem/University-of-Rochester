{
 "cells": [
  {
   "cell_type": "code",
   "execution_count": 1,
   "metadata": {},
   "outputs": [],
   "source": [
    "# Import library\n",
    "import pandas as pd\n",
    "import numpy as np\n",
    "import requests\n",
    "import matplotlib.pyplot as plt\n",
    "import seaborn as sns\n",
    "from datetime import timedelta\n",
    "\n",
    "import xgboost as xgb\n",
    "from sklearn.linear_model import ElasticNet\n",
    "from sklearn.preprocessing import LabelEncoder\n",
    "from sklearn.preprocessing import OneHotEncoder\n",
    "from sklearn.model_selection import train_test_split\n",
    "from sklearn import metrics\n",
    "import scipy.stats as stats\n",
    "from statsmodels.stats.multicomp import pairwise_tukeyhsd\n",
    "\n",
    "import time\n",
    "from tqdm import tqdm_notebook as tqdm\n",
    "from IPython.display import IFrame\n",
    "\n",
    "# Ignore several specific Pandas warnings\n",
    "import warnings\n",
    "warnings.filterwarnings(\"ignore\")\n",
    "\n",
    "# Set the seed for randomization\n",
    "seed = 0"
   ]
  },
  {
   "cell_type": "code",
   "execution_count": 2,
   "metadata": {},
   "outputs": [],
   "source": [
    "def download_file(url):\n",
    "    '''\n",
    "    Download file from given URL\n",
    "    \n",
    "    Parameters\n",
    "    ----------\n",
    "    url: str\n",
    "        URL of the file to download\n",
    "    '''\n",
    "    \n",
    "    # One chunk = 1KB = 1024 byte\n",
    "    chunk_size = 1024\n",
    "    # Create a request object to download the file in streaming mode\n",
    "    r = requests.get(url, stream = True)\n",
    "    # Get the total size of the file\n",
    "    total_size = int(r.headers['content-length'])\n",
    "    # Use the original filename (The string after the last \"/\")\n",
    "    filename = url.split('/')[-1]\n",
    "    \n",
    "    # Open a new file with filename and write the download data\n",
    "    with open(filename, 'wb') as f:\n",
    "        # Use tqdm to show download progress\n",
    "        for data in tqdm(iterable = r.iter_content(chunk_size = chunk_size), \n",
    "                         total = total_size/chunk_size, unit ='KB'):\n",
    "            # Write the data to file\n",
    "            f.write(data)\n",
    "            \n",
    "    print('Donwload complete')"
   ]
  },
  {
   "cell_type": "code",
   "execution_count": 3,
   "metadata": {},
   "outputs": [],
   "source": [
    "# The URL of the Green Taxis data from September 2015\n",
    "url = \"https://s3.amazonaws.com/nyc-tlc/trip+data/yellow_tripdata_2018-01.csv\""
   ]
  },
  {
   "cell_type": "code",
   "execution_count": 5,
   "metadata": {},
   "outputs": [
    {
     "data": {
      "application/vnd.jupyter.widget-view+json": {
       "model_id": "12ac618c0bee44e3956c68230f06883a",
       "version_major": 2,
       "version_minor": 0
      },
      "text/plain": [
       "HBox(children=(IntProgress(value=0, max=754002), HTML(value='')))"
      ]
     },
     "metadata": {},
     "output_type": "display_data"
    },
    {
     "name": "stdout",
     "output_type": "stream",
     "text": [
      "Donwload complete\n"
     ]
    }
   ],
   "source": [
    "# Download the file\n",
    "download_file(url)"
   ]
  },
  {
   "cell_type": "code",
   "execution_count": 12,
   "metadata": {},
   "outputs": [],
   "source": [
    "# Load the csv file into pandas dataframe\n",
    "data = pd.read_csv('data/yellow_tripdata_2018-01.csv')"
   ]
  },
  {
   "cell_type": "code",
   "execution_count": 19,
   "metadata": {},
   "outputs": [],
   "source": [
    "# Convert data type for categorical attribute\n",
    "data.VendorID = data.VendorID.astype(object)\n",
    "data.RatecodeID = data.RatecodeID.astype(object)\n",
    "data.PULocationID = data.PULocationID.astype(object)\n",
    "data.DOLocationID = data.DOLocationID.astype(object)\n",
    "data.payment_type = data.payment_type.astype(object)\n",
    "# Convert data type for date attribute\n",
    "data.tpep_pickup_datetime = pd.to_datetime(data.tpep_pickup_datetime)\n",
    "data.tpep_dropoff_datetime = pd.to_datetime(data.tpep_dropoff_datetime)"
   ]
  },
  {
   "cell_type": "code",
   "execution_count": 20,
   "metadata": {},
   "outputs": [
    {
     "data": {
      "text/plain": [
       "VendorID                         object\n",
       "tpep_pickup_datetime     datetime64[ns]\n",
       "tpep_dropoff_datetime    datetime64[ns]\n",
       "passenger_count                   int64\n",
       "trip_distance                   float64\n",
       "RatecodeID                       object\n",
       "store_and_fwd_flag               object\n",
       "PULocationID                     object\n",
       "DOLocationID                     object\n",
       "payment_type                     object\n",
       "fare_amount                     float64\n",
       "extra                           float64\n",
       "mta_tax                         float64\n",
       "tip_amount                      float64\n",
       "tolls_amount                    float64\n",
       "improvement_surcharge           float64\n",
       "total_amount                    float64\n",
       "dtype: object"
      ]
     },
     "execution_count": 20,
     "metadata": {},
     "output_type": "execute_result"
    }
   ],
   "source": [
    "data.dtypes"
   ]
  },
  {
   "cell_type": "code",
   "execution_count": 21,
   "metadata": {},
   "outputs": [
    {
     "data": {
      "text/plain": [
       "(8759874, 17)"
      ]
     },
     "execution_count": 21,
     "metadata": {},
     "output_type": "execute_result"
    }
   ],
   "source": [
    "data.shape"
   ]
  },
  {
   "cell_type": "code",
   "execution_count": null,
   "metadata": {},
   "outputs": [],
   "source": []
  }
 ],
 "metadata": {
  "kernelspec": {
   "display_name": "Python 3",
   "language": "python",
   "name": "python3"
  },
  "language_info": {
   "codemirror_mode": {
    "name": "ipython",
    "version": 3
   },
   "file_extension": ".py",
   "mimetype": "text/x-python",
   "name": "python",
   "nbconvert_exporter": "python",
   "pygments_lexer": "ipython3",
   "version": "3.7.0"
  }
 },
 "nbformat": 4,
 "nbformat_minor": 2
}
